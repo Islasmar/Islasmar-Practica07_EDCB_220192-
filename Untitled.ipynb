{
 "cells": [
  {
   "cell_type": "code",
   "execution_count": 1,
   "id": "12becdd1-a84c-4055-a29d-84f9f3aed36b",
   "metadata": {},
   "outputs": [
    {
     "name": "stdout",
     "output_type": "stream",
     "text": [
      "\n",
      "CPU times: total: 2.77 s\n",
      "Wall time: 4.44 s\n"
     ]
    }
   ],
   "source": [
    "%%time\n",
    "\n",
    "# Installing select libraries:-\n",
    "from gc import collect; # garbage collection to free up memory\n",
    "from warnings import filterwarnings; # handle warning messages\n",
    "\n",
    "import re # regular expressions\n",
    "\n",
    "import numpy as np # linear algebra\n",
    "import pandas as pd # data processing, CSV file I/O (e.g. pd.read_csv)\n",
    "from scipy import stats # statistical functions\n",
    "\n",
    "from itertools import cycle, combinations  # Igenerating combinations & cycle\n",
    "\n",
    "import matplotlib.pyplot as plt # data visualization\n",
    "from matplotlib.ticker import FuncFormatter  # For custom formatting of ticks\n",
    "from matplotlib.ticker import FormatStrFormatter  # For formatting ticks with a string\n",
    "from mpl_toolkits.mplot3d import Axes3D  # Importing 3D axes module\n",
    "from matplotlib.colors import ListedColormap  # Importing colormap for scatter plot\n",
    "import seaborn as sns # statistical data visualization\n",
    "from wordcloud import WordCloud  # Importing WordCloud library for textual data visualization\n",
    "\n",
    "from io import StringIO\n",
    "\n",
    "filterwarnings('ignore'); # Ignore warning messages\n",
    "from IPython.display import display, HTML, display_html, clear_output; # displaying HTML content\n",
    "\n",
    "\n",
    "clear_output();\n",
    "print();\n",
    "collect();"
   ]
  }
 ],
 "metadata": {
  "kernelspec": {
   "display_name": "Python [conda env:base] *",
   "language": "python",
   "name": "conda-base-py"
  },
  "language_info": {
   "codemirror_mode": {
    "name": "ipython",
    "version": 3
   },
   "file_extension": ".py",
   "mimetype": "text/x-python",
   "name": "python",
   "nbconvert_exporter": "python",
   "pygments_lexer": "ipython3",
   "version": "3.12.7"
  },
  "panel-cell-order": [
   "76c1b1ac-8e7c-493f-9ed7-c44993b174b8",
   "1805b69c-39e4-4705-bfe5-3ac033797c41",
   "a592b394-758a-4d80-aa8d-d4e6c9a79cf0",
   "86cb3e0f-85c8-413f-8ac4-484f60e7f7b5"
  ]
 },
 "nbformat": 4,
 "nbformat_minor": 5
}
